{
 "cells": [
  {
   "attachments": {},
   "cell_type": "markdown",
   "metadata": {},
   "source": [
    "### Comparative Analysis of Binary Classification Supervised Learning Methods: Naive Bayes, SVM, and CNN for Weed Detection in Soybean Crops"
   ]
  },
  {
   "attachments": {},
   "cell_type": "markdown",
   "metadata": {},
   "source": [
    "### Introductionn"
   ]
  },
  {
   "attachments": {},
   "cell_type": "markdown",
   "metadata": {},
   "source": [
    "Weed image classification is an important task in precision agriculture, which aims to improve farming practices by using advanced technologies and data-driven decision-making. The main objective of weed image classification is to distinguish between weed and crop plants in images taken from agricultural fields. By accurately identifying weed species and their locations, farmers can take targeted actions to control weed growth, leading to improved crop yields and reduced usage of herbicides.\n",
    "\n",
    "I chose the dataset \"Weed Detection in Soybean Crops\" from Kaggle (https://www.kaggle.com/datasets/fpeccia/weed-detection-in-soybean-crops).\n",
    "About the dataset used in this project, it is picked from the original dataset by 260 and 5000 for weed and non weed images, respectively."
   ]
  },
  {
   "attachments": {},
   "cell_type": "markdown",
   "metadata": {},
   "source": [
    "It is a dataset with labels, so I determine to use supervise learning methods to complete the task of binary weed classification. Let's start from naive bayes and suppoert vector machine, which are we learned from the class. "
   ]
  },
  {
   "attachments": {},
   "cell_type": "markdown",
   "metadata": {},
   "source": [
    "If you want to redo theis notebook, please download the dataset from the link (https://iastate.box.com/s/vg4j359vhbo5ad8orkcc7aqxbibkmyvq)."
   ]
  },
  {
   "attachments": {},
   "cell_type": "markdown",
   "metadata": {},
   "source": [
    "#### Pre-preparation"
   ]
  },
  {
   "cell_type": "code",
   "execution_count": 137,
   "metadata": {},
   "outputs": [],
   "source": [
    "import numpy as np\n",
    "import cv2\n",
    "import os\n",
    "import glob\n",
    "import time\n",
    "\n",
    "from sklearn.model_selection import train_test_split, GridSearchCV\n",
    "from sklearn.naive_bayes import GaussianNB\n",
    "from sklearn.svm import SVC, LinearSVC\n",
    "from sklearn.preprocessing import StandardScaler\n",
    "from sklearn.decomposition import PCA\n",
    "from sklearn.pipeline import make_pipeline\n",
    "from sklearn.metrics import accuracy_score, confusion_matrix, classification_report\n",
    "\n",
    "from imblearn.over_sampling import SMOTE, RandomOverSampler\n",
    "from imblearn.under_sampling import RandomUnderSampler\n",
    "from imblearn.pipeline import Pipeline\n",
    "\n",
    "import torch\n",
    "import torch.nn as nn\n",
    "import torch.optim as optim\n",
    "import torch.nn.functional as F\n",
    "from torchvision import models\n",
    "from torch.utils.data import Dataset, DataLoader"
   ]
  },
  {
   "cell_type": "code",
   "execution_count": 146,
   "metadata": {},
   "outputs": [],
   "source": [
    "class WeedDataset(Dataset):\n",
    "    def __init__(self, data, labels):\n",
    "        self.data = data\n",
    "        self.labels = labels\n",
    "\n",
    "    def __len__(self):\n",
    "        return len(self.data)\n",
    "\n",
    "    def __getitem__(self, index):\n",
    "        img = self.data[index]\n",
    "        img = torch.from_numpy(img).unsqueeze(0).float() / 255.0\n",
    "        label = self.labels[index]\n",
    "        return img, label\n",
    "\n",
    "class BinaryClassifier(nn.Module):\n",
    "    def __init__(self):\n",
    "        super(BinaryClassifier, self).__init__()\n",
    "        self.conv1 = nn.Conv2d(1, 16, 3, padding=1)\n",
    "        self.conv2 = nn.Conv2d(16, 32, 3, padding=1)\n",
    "        self.pool = nn.MaxPool2d(2, 2)\n",
    "        self.fc1 = nn.Linear(32 * 16 * 16, 256)\n",
    "        self.fc2 = nn.Linear(256, 1)\n",
    "        self.sigmoid = nn.Sigmoid()\n",
    "\n",
    "    def forward(self, x):\n",
    "        x = self.pool(F.relu(self.conv1(x)))\n",
    "        x = self.pool(F.relu(self.conv2(x)))\n",
    "        x = x.view(-1, 32 * 16 * 16)\n",
    "        x = F.relu(self.fc1(x))\n",
    "        x = self.fc2(x)\n",
    "        x = self.sigmoid(x)\n",
    "        return x\n",
    "\n",
    "def cnn(X_train, X_test, y_train, y_test, optm=\"SGD\"):\n",
    "    train_dataset = WeedDataset(X_train, y_train)\n",
    "    test_dataset = WeedDataset(X_test, y_test)\n",
    "    train_loader = DataLoader(train_dataset, batch_size=32, shuffle=True)\n",
    "    test_loader = DataLoader(test_dataset, batch_size=32, shuffle=False)\n",
    "\n",
    "    device = torch.device(\"cuda\" if torch.cuda.is_available() else \"cpu\")\n",
    "\n",
    "    model = BinaryClassifier().to(device)\n",
    "    criterion = nn.BCELoss()\n",
    "    optimizer = optim.SGD(model.parameters(), lr=0.01, momentum=0.9)\n",
    "\n",
    "    num_epochs = 30\n",
    "    start_time = time.time()\n",
    "    for epoch in range(num_epochs):\n",
    "        model.train()\n",
    "        running_loss = 0.0\n",
    "        for images, labels in train_loader:\n",
    "            images = images.to(device, dtype=torch.float)\n",
    "            labels = labels.to(device, dtype=torch.float).view(-1, 1)\n",
    "            optimizer.zero_grad()\n",
    "            outputs = model(images)\n",
    "            loss = criterion(outputs, labels)\n",
    "            loss.backward()\n",
    "            optimizer.step()\n",
    "            running_loss += loss.item()\n",
    "            # print(f\"Epoch {epoch+1}/{num_epochs}, Loss: {running_loss/len(train_loader)}\")\n",
    "    end_time = time.time()\n",
    "    elapsed_time = end_time - start_time\n",
    "    \n",
    "    model.eval()\n",
    "    correct = 0\n",
    "    total = 0\n",
    "    with torch.no_grad():\n",
    "        for images, labels in test_loader:\n",
    "            images = images.to(device, dtype=torch.float)\n",
    "            labels = labels.to(device, dtype=torch.float).view(-1, 1)\n",
    "            \n",
    "            outputs = model(images)\n",
    "            predicted = (outputs > 0.5).float()\n",
    "            total += labels.size(0)\n",
    "            correct += (predicted == labels).sum().item()\n",
    "    acc_cnn = correct / total\n",
    "    \n",
    "    torch.save(model.state_dict(), f'weights_{num_epochs}.pth')\n",
    "\n",
    "    return acc_cnn, elapsed_time"
   ]
  },
  {
   "cell_type": "code",
   "execution_count": 110,
   "metadata": {},
   "outputs": [],
   "source": [
    "def load_images(path, label):\n",
    "    images = []\n",
    "    labels = []\n",
    "    for img_path in glob.glob(os.path.join(path, \"*.tif\")):\n",
    "        img = cv2.imread(img_path, cv2.IMREAD_GRAYSCALE)\n",
    "        img = cv2.resize(img, (64, 64))\n",
    "        images.append(img)\n",
    "        labels.append(label)\n",
    "    return images, labels\n",
    "\n",
    "def run(method, sampling=0, crossvalidation=0, optm=\"SGD\"):\n",
    "\n",
    "    weed_images, weed_labels = load_images(\"weed\", 1)\n",
    "    non_weed_images, non_weed_labels = load_images(\"non_weed\", 0)\n",
    "    all_images = np.array(weed_images + non_weed_images)\n",
    "    all_labels = np.array(weed_labels + non_weed_labels)\n",
    "\n",
    "    X_train, X_test, y_train, y_test = train_test_split(all_images, all_labels, test_size=0.2, random_state=42)\n",
    "\n",
    "    if method == \"nb\":\n",
    "        start_time = time.time()\n",
    "        X_train = X_train.reshape(X_train.shape[0], -1)\n",
    "        X_test = X_test.reshape(X_test.shape[0], -1)\n",
    "        if sampling != 0:\n",
    "            resampling = Pipeline([('oversample', SMOTE()), ('undersample', RandomUnderSampler())])\n",
    "            X_train, y_train = resampling.fit_resample(X_train, y_train)\n",
    "        mtd = GaussianNB()\n",
    "        mtd.fit(X_train, y_train)\n",
    "        y_pred = mtd.predict(X_test)\n",
    "        end_time = time.time()\n",
    "        elapsed_time = end_time - start_time\n",
    "        acc = accuracy_score(y_test, y_pred)\n",
    "\n",
    "    elif method == \"svm\":\n",
    "        start_time = time.time()\n",
    "        X_train = X_train.reshape(X_train.shape[0], -1)\n",
    "        X_test = X_test.reshape(X_test.shape[0], -1)\n",
    "        scaler = StandardScaler()\n",
    "        X_train_scaled = scaler.fit_transform(X_train)\n",
    "        X_test_scaled = scaler.transform(X_test)\n",
    "        if crossvalidation != 0:\n",
    "            param_grid = {'C': [0.1, 1, 10], 'gamma': [1, 0.1, 0.01], 'kernel': ['linear', 'rbf']}\n",
    "            mtd = GridSearchCV(SVC(), param_grid, cv=2, verbose=2)\n",
    "            mtd.fit(X_train_scaled, y_train)\n",
    "            best_svm = mtd.best_estimator_\n",
    "            y_pred = best_svm.predict(X_test_scaled)\n",
    "        else:\n",
    "            mtd = SVC(kernel='linear', C=1, gamma=0.1)\n",
    "            mtd.fit(X_train_scaled, y_train)\n",
    "            y_pred = mtd.predict(X_test_scaled)\n",
    "            \n",
    "        acc = accuracy_score(y_test, y_pred)\n",
    "        end_time = time.time()\n",
    "        elapsed_time = end_time - start_time\n",
    "    \n",
    "    elif method == \"cnn\":\n",
    "        acc, elapsed_time = cnn(X_train, X_test, y_train, y_test, optm)\n",
    "    \n",
    "    return acc, elapsed_time"
   ]
  },
  {
   "attachments": {},
   "cell_type": "markdown",
   "metadata": {},
   "source": [
    "### Naive Bayes"
   ]
  },
  {
   "cell_type": "code",
   "execution_count": 6,
   "metadata": {},
   "outputs": [],
   "source": [
    "acc_nb, elapsed_time_nb = run(\"nb\")"
   ]
  },
  {
   "attachments": {},
   "cell_type": "markdown",
   "metadata": {},
   "source": [
    "The ratio of non weed and weed is 5000/260, which is greater than 19, and thus it could be considered as an imbalanced dataset. Here, oversampling and undersampling was applied to deal with this issue."
   ]
  },
  {
   "attachments": {},
   "cell_type": "markdown",
   "metadata": {},
   "source": [
    "### Naive Bayes with oversampling and undersampling"
   ]
  },
  {
   "cell_type": "code",
   "execution_count": 9,
   "metadata": {},
   "outputs": [],
   "source": [
    "acc_nb_os, elapsed_time_nb_os = run(\"nb\", sampling=1)"
   ]
  },
  {
   "attachments": {},
   "cell_type": "markdown",
   "metadata": {},
   "source": [
    "### Support Vector Machine"
   ]
  },
  {
   "cell_type": "code",
   "execution_count": 11,
   "metadata": {},
   "outputs": [],
   "source": [
    "acc_svm, elapsed_time_svm = run(\"svm\")"
   ]
  },
  {
   "attachments": {},
   "cell_type": "markdown",
   "metadata": {},
   "source": [
    "There are lots of hyperparameters, like C, gamma and kernel, could be tuned. Now, the cross-validation was implemented in SVM to improve the accuracy."
   ]
  },
  {
   "attachments": {},
   "cell_type": "markdown",
   "metadata": {},
   "source": [
    "### Support Vector Machine with cross-validation"
   ]
  },
  {
   "cell_type": "code",
   "execution_count": 92,
   "metadata": {},
   "outputs": [
    {
     "name": "stdout",
     "output_type": "stream",
     "text": [
      "Fitting 2 folds for each of 18 candidates, totalling 36 fits\n",
      "[CV] END ......................C=0.1, gamma=1, kernel=linear; total time=   2.1s\n",
      "[CV] END ......................C=0.1, gamma=1, kernel=linear; total time=   2.0s\n",
      "[CV] END .........................C=0.1, gamma=1, kernel=rbf; total time=   9.2s\n",
      "[CV] END .........................C=0.1, gamma=1, kernel=rbf; total time=   9.2s\n",
      "[CV] END ....................C=0.1, gamma=0.1, kernel=linear; total time=   2.1s\n",
      "[CV] END ....................C=0.1, gamma=0.1, kernel=linear; total time=   2.0s\n",
      "[CV] END .......................C=0.1, gamma=0.1, kernel=rbf; total time=   9.2s\n",
      "[CV] END .......................C=0.1, gamma=0.1, kernel=rbf; total time=   9.2s\n",
      "[CV] END ...................C=0.1, gamma=0.01, kernel=linear; total time=   2.1s\n",
      "[CV] END ...................C=0.1, gamma=0.01, kernel=linear; total time=   2.0s\n",
      "[CV] END ......................C=0.1, gamma=0.01, kernel=rbf; total time=   9.2s\n",
      "[CV] END ......................C=0.1, gamma=0.01, kernel=rbf; total time=   9.2s\n",
      "[CV] END ........................C=1, gamma=1, kernel=linear; total time=   2.1s\n",
      "[CV] END ........................C=1, gamma=1, kernel=linear; total time=   2.0s\n",
      "[CV] END ...........................C=1, gamma=1, kernel=rbf; total time=   9.2s\n",
      "[CV] END ...........................C=1, gamma=1, kernel=rbf; total time=   9.3s\n",
      "[CV] END ......................C=1, gamma=0.1, kernel=linear; total time=   2.1s\n",
      "[CV] END ......................C=1, gamma=0.1, kernel=linear; total time=   2.0s\n",
      "[CV] END .........................C=1, gamma=0.1, kernel=rbf; total time=   9.2s\n",
      "[CV] END .........................C=1, gamma=0.1, kernel=rbf; total time=   9.3s\n",
      "[CV] END .....................C=1, gamma=0.01, kernel=linear; total time=   2.1s\n",
      "[CV] END .....................C=1, gamma=0.01, kernel=linear; total time=   2.0s\n",
      "[CV] END ........................C=1, gamma=0.01, kernel=rbf; total time=   9.2s\n",
      "[CV] END ........................C=1, gamma=0.01, kernel=rbf; total time=   9.1s\n",
      "[CV] END .......................C=10, gamma=1, kernel=linear; total time=   2.0s\n",
      "[CV] END .......................C=10, gamma=1, kernel=linear; total time=   2.0s\n",
      "[CV] END ..........................C=10, gamma=1, kernel=rbf; total time=   9.3s\n",
      "[CV] END ..........................C=10, gamma=1, kernel=rbf; total time=   9.3s\n",
      "[CV] END .....................C=10, gamma=0.1, kernel=linear; total time=   2.0s\n",
      "[CV] END .....................C=10, gamma=0.1, kernel=linear; total time=   2.0s\n",
      "[CV] END ........................C=10, gamma=0.1, kernel=rbf; total time=   9.3s\n",
      "[CV] END ........................C=10, gamma=0.1, kernel=rbf; total time=   9.3s\n",
      "[CV] END ....................C=10, gamma=0.01, kernel=linear; total time=   2.0s\n",
      "[CV] END ....................C=10, gamma=0.01, kernel=linear; total time=   2.0s\n",
      "[CV] END .......................C=10, gamma=0.01, kernel=rbf; total time=   9.3s\n",
      "[CV] END .......................C=10, gamma=0.01, kernel=rbf; total time=   9.3s\n"
     ]
    }
   ],
   "source": [
    "acc_svm_cv, elapsed_time_svm_cv = run(\"svm\", crossvalidation=1)"
   ]
  },
  {
   "attachments": {},
   "cell_type": "markdown",
   "metadata": {},
   "source": [
    "In my research, I usually use SGD to solve the problem. In this part, I would like to use this method."
   ]
  },
  {
   "attachments": {},
   "cell_type": "markdown",
   "metadata": {},
   "source": [
    "### Convolution Neuronal Network with gradient descent"
   ]
  },
  {
   "cell_type": "code",
   "execution_count": 149,
   "metadata": {},
   "outputs": [],
   "source": [
    "acc_cnn, elapsed_time_cnn = run(\"cnn\")"
   ]
  },
  {
   "attachments": {},
   "cell_type": "markdown",
   "metadata": {},
   "source": [
    "### Visualize the results"
   ]
  },
  {
   "cell_type": "code",
   "execution_count": 150,
   "metadata": {},
   "outputs": [
    {
     "data": {
      "image/png": "[encoded data removed]",
      "text/plain": [
       "<Figure size 432x288 with 1 Axes>"
      ]
     },
     "metadata": {
      "needs_background": "light"
     },
     "output_type": "display_data"
    },
    {
     "data": {
      "image/png": "[encoded data removed]",
      "text/plain": [
       "<Figure size 432x288 with 1 Axes>"
      ]
     },
     "metadata": {
      "needs_background": "light"
     },
     "output_type": "display_data"
    }
   ],
   "source": [
    "import matplotlib.pyplot as plt\n",
    "\n",
    "methods = ['NB', 'NB with\\nsampling', 'SVM', 'SVM with\\ncross validation', 'CNN']\n",
    "accuracies = np.array([acc_nb, acc_nb_os, acc_svm, acc_svm_cv, acc_cnn]) *100\n",
    "times = np.array([elapsed_time_nb, elapsed_time_nb_os, elapsed_time_svm, elapsed_time_svm_cv, elapsed_time_cnn])\n",
    "\n",
    "def add_value_labels(bs):\n",
    "    for bar in bs:\n",
    "        height = bar.get_height()\n",
    "        plt.text(bar.get_x()+bar.get_width()/2,height,f'{height:.2f}',ha='center',va='top',fontsize=9)\n",
    "\n",
    "bar_acc = plt.bar(methods, accuracies, color='g')\n",
    "plt.yscale('linear')\n",
    "plt.ylim([60,100])\n",
    "plt.xlabel('Methods')\n",
    "plt.ylabel('Accuracy (%)')\n",
    "plt.title('Comparison of Accuracy for Different Methods')\n",
    "add_value_labels(bar_acc)\n",
    "plt.tight_layout()\n",
    "plt.savefig('acc.png', dpi=300)\n",
    "plt.show()\n",
    "\n",
    "bar_time = plt.bar(methods, times, color='c')\n",
    "plt.yscale('log')\n",
    "plt.xlabel('Methods')\n",
    "plt.ylabel('Time (s)')\n",
    "plt.title('Comparison of Computing Time for Different Methods')\n",
    "add_value_labels(bar_time)\n",
    "plt.tight_layout()\n",
    "plt.savefig('time.png', dpi=300)\n",
    "plt.show()"
   ]
  }
 ],
 "metadata": {
  "kernelspec": {
   "display_name": "pytorenv",
   "language": "python",
   "name": "python3"
  },
  "language_info": {
   "codemirror_mode": {
    "name": "ipython",
    "version": 3
   },
   "file_extension": ".py",
   "mimetype": "text/x-python",
   "name": "python",
   "nbconvert_exporter": "python",
   "pygments_lexer": "ipython3",
   "version": "3.9.12"
  },
  "orig_nbformat": 4
 },
 "nbformat": 4,
 "nbformat_minor": 2
}
